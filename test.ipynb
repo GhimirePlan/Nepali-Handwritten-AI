{
 "cells": [
  {
   "cell_type": "code",
   "execution_count": null,
   "id": "initial_id",
   "metadata": {
    "collapsed": true
   },
   "outputs": [],
   "source": [
    ""
   ]
  },
  {
   "metadata": {
    "ExecuteTime": {
     "end_time": "2025-06-02T08:57:24.132073Z",
     "start_time": "2025-06-02T08:57:24.116437Z"
    }
   },
   "cell_type": "code",
   "source": [
    "import os\n",
    "import cv2\n",
    "import numpy as np\n",
    "import pandas as pd\n",
    "import matplotlib.pyplot as plt\n",
    "from tensorflow.keras.models import load_model\n",
    "\n",
    "def predict_devanagari_character(image_path, model_path='models/devanagari_model.h5', metadata_path='models/model_metadata.npy'):\n",
    "    \"\"\"\n",
    "    Predict Devanagari character from an image\n",
    "\n",
    "    Args:\n",
    "        image_path: Path to the input image\n",
    "        model_path: Path to the saved model\n",
    "        metadata_path: Path to the model metadata\n",
    "\n",
    "    Returns:\n",
    "        predicted_class: The predicted class index\n",
    "        confidence: The confidence score for the prediction\n",
    "    \"\"\"\n",
    "    # Load the model and metadata\n",
    "    # Suppress the warning about compiled metrics not being built\n",
    "    import warnings\n",
    "    with warnings.catch_warnings():\n",
    "        warnings.simplefilter(\"ignore\")\n",
    "        model = load_model(model_path)\n",
    "\n",
    "    metadata = np.load(metadata_path, allow_pickle=True).item()\n",
    "\n",
    "    # Read and preprocess the image\n",
    "    img = cv2.imread(image_path, cv2.IMREAD_GRAYSCALE)\n",
    "    if img is None:\n",
    "        raise ValueError(f\"Could not read image at {image_path}\")\n",
    "\n",
    "    # Resize image to match model's expected input\n",
    "    img = cv2.resize(img, (32, 32))\n",
    "\n",
    "    # Normalize and reshape image\n",
    "    img = img.reshape(1, 32, 32, 1) / 255.0\n",
    "\n",
    "    # Make prediction\n",
    "    predictions = model.predict(img)\n",
    "    predicted_class = np.argmax(predictions[0])\n",
    "    confidence = predictions[0][predicted_class]\n",
    "\n",
    "    return predicted_class, confidence\n",
    "\n",
    "def get_character_info(class_idx):\n",
    "    \"\"\"\n",
    "    Get information about the predicted character from the labels.csv file\n",
    "\n",
    "    Args:\n",
    "        class_idx: The predicted class index\n",
    "\n",
    "    Returns:\n",
    "        character_info: Dictionary containing character information\n",
    "    \"\"\"\n",
    "    # Read the labels file\n",
    "    labels_df = pd.read_csv('dataset/labels.csv', skiprows=2)\n",
    "\n",
    "    # Find the row with the matching class index\n",
    "    # We need to drop rows where 'Class' is NaN before searching\n",
    "    character_row = labels_df.dropna(subset=['Class'])[labels_df.dropna(subset=['Class'])['Class'] == class_idx]\n",
    "\n",
    "    if not character_row.empty:\n",
    "        # Assuming 'Category' column is present and correctly filled\n",
    "        category = character_row['Category'].iloc[0] if 'Category' in character_row.columns else 'Unknown Category'\n",
    "        character_info = {\n",
    "            'type': category,\n",
    "            'label': character_row['Label'].iloc[0],\n",
    "            'devanagari': character_row['Devanagari Label'].iloc[0],\n",
    "            'phonetics': character_row['Phonetics'].iloc[0]\n",
    "        }\n",
    "        return character_info\n",
    "    else:\n",
    "        return None\n",
    "\n",
    "\n",
    "# Example usage:\n",
    "def predict_and_display(image_path):\n",
    "    \"\"\"\n",
    "    Predict character and display results with the image\n",
    "\n",
    "    Args:\n",
    "        image_path: Path to the input image\n",
    "    \"\"\"\n",
    "    # Make prediction\n",
    "    predicted_class, confidence = predict_devanagari_character(image_path)\n",
    "\n",
    "    # Get character information\n",
    "    character_info = get_character_info(predicted_class)\n",
    "\n",
    "    # Display results\n",
    "    print(\"\\nPrediction Results:\")\n",
    "    print(f\"Confidence: {confidence:.2%}\")\n",
    "    if character_info:\n",
    "        print(f\"Type: {character_info['type']}\")\n",
    "        print(f\"Label: {character_info['label']}\")\n",
    "        print(f\"Devanagari: {character_info['devanagari']}\")\n",
    "        print(f\"Phonetics: {character_info['phonetics']}\")\n",
    "    else:\n",
    "        print(f\"Could not find character information for class index {predicted_class}\")\n",
    "\n",
    "    # Display the image\n",
    "    img = cv2.imread(image_path, cv2.IMREAD_GRAYSCALE)\n",
    "    if img is not None:\n",
    "        plt.figure(figsize=(4, 4))\n",
    "        plt.imshow(img, cmap='gray')\n",
    "        # Use Devanagari label if available, otherwise use predicted class index\n",
    "        title = f\"Predicted: {character_info['devanagari'] if character_info and 'devanagari' in character_info else predicted_class}\"\n",
    "        plt.title(title)\n",
    "        plt.axis('off')\n",
    "        plt.show()\n",
    "    else:\n",
    "        print(f\"Could not load image for display: {image_path}\")\n"
   ],
   "id": "c981d86fed2b2292",
   "outputs": [],
   "execution_count": 4
  },
  {
   "metadata": {
    "ExecuteTime": {
     "end_time": "2025-06-02T09:38:44.808437Z",
     "start_time": "2025-06-02T09:38:43.328744Z"
    }
   },
   "cell_type": "code",
   "source": [
    "# Example: Test with an image from your dataset\n",
    "test_image_path = \"dataset/nhcd/nhcd/consonants/1/21.jpg\"  # Replace with an actual image path\n",
    "predict_and_display(test_image_path)"
   ],
   "id": "64f81bc3af9201f2",
   "outputs": [
    {
     "name": "stderr",
     "output_type": "stream",
     "text": [
      "WARNING:absl:Compiled the loaded model, but the compiled metrics have yet to be built. `model.compile_metrics` will be empty until you train or evaluate the model.\n"
     ]
    },
    {
     "name": "stdout",
     "output_type": "stream",
     "text": [
      "\u001B[1m1/1\u001B[0m \u001B[32m━━━━━━━━━━━━━━━━━━━━\u001B[0m\u001B[37m\u001B[0m \u001B[1m0s\u001B[0m 475ms/step\n",
      "\n",
      "Prediction Results:\n",
      "Confidence: 26.19%\n",
      "Could not find character information for class index 10\n"
     ]
    },
    {
     "data": {
      "text/plain": [
       "<Figure size 400x400 with 1 Axes>"
      ],
      "image/png": "[encoded data removed]"
     },
     "metadata": {},
     "output_type": "display_data"
    }
   ],
   "execution_count": 23
  },
  {
   "metadata": {},
   "cell_type": "code",
   "outputs": [],
   "execution_count": null,
   "source": "",
   "id": "dfe5b098eebf49fc"
  }
 ],
 "metadata": {
  "kernelspec": {
   "display_name": "Python 3",
   "language": "python",
   "name": "python3"
  },
  "language_info": {
   "codemirror_mode": {
    "name": "ipython",
    "version": 2
   },
   "file_extension": ".py",
   "mimetype": "text/x-python",
   "name": "python",
   "nbconvert_exporter": "python",
   "pygments_lexer": "ipython2",
   "version": "2.7.6"
  }
 },
 "nbformat": 4,
 "nbformat_minor": 5
}
